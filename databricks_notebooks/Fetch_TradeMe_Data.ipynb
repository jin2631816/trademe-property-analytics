{
 "cells": [
  {
   "cell_type": "code",
   "execution_count": 0,
   "metadata": {
    "application/vnd.databricks.v1+cell": {
     "cellMetadata": {
      "byteLimit": 2048000,
      "rowLimit": 10000
     },
     "inputWidgets": {},
     "nuid": "b2dad762-c761-44cb-815c-9904572be766",
     "showTitle": false,
     "tableResultSettingsMap": {},
     "title": ""
    }
   },
   "outputs": [],
   "source": [
    "import requests\n",
    "import json\n",
    "from pyspark.sql import SparkSession\n",
    "from pyspark.sql.types import StructType, StructField, StringType, IntegerType, FloatType\n"
   ]
  },
  {
   "cell_type": "code",
   "execution_count": 0,
   "metadata": {
    "application/vnd.databricks.v1+cell": {
     "cellMetadata": {
      "byteLimit": 2048000,
      "rowLimit": 10000
     },
     "inputWidgets": {},
     "nuid": "744c31f1-7d87-466d-aefc-83aad295967d",
     "showTitle": false,
     "tableResultSettingsMap": {},
     "title": ""
    }
   },
   "outputs": [
    {
     "output_type": "stream",
     "name": "stdout",
     "output_type": "stream",
     "text": [
      "Status Code: 401\nSample JSON Keys: dict_keys(['Request', 'ErrorDescription'])\n"
     ]
    }
   ],
   "source": [
    "# 示例URL：用真实的Trade Me API Key替换后使用（这里先用假URL测试结构）\n",
    "sample_url = \"https://api.trademe.co.nz/v1/Search/Property/Residential.json\"\n",
    "\n",
    "response = requests.get(sample_url)\n",
    "\n",
    "# 检查状态码和返回结构\n",
    "print(\"Status Code:\", response.status_code)\n",
    "print(\"Sample JSON Keys:\", response.json().keys())"
   ]
  },
  {
   "cell_type": "code",
   "execution_count": 0,
   "metadata": {
    "application/vnd.databricks.v1+cell": {
     "cellMetadata": {
      "byteLimit": 2048000,
      "rowLimit": 10000
     },
     "inputWidgets": {},
     "nuid": "71168391-5db8-4fb1-82a0-c0c733cb0ed7",
     "showTitle": false,
     "tableResultSettingsMap": {},
     "title": ""
    }
   },
   "outputs": [
    {
     "output_type": "stream",
     "name": "stdout",
     "output_type": "stream",
     "text": [
      "+-----------+----------+------+--------+---------+\n|    address|      city| price|bedrooms|bathrooms|\n+-----------+----------+------+--------+---------+\n| 123 ABC St|  Auckland|950000|       3|        2|\n|456 XYZ Ave|Wellington|870000|       2|        1|\n+-----------+----------+------+--------+---------+\n\n"
     ]
    }
   ],
   "source": [
    "spark = SparkSession.builder.getOrCreate()\n",
    "\n",
    "sample_data = [(\"123 ABC St\", \"Auckland\", 950000, 3, 2),\n",
    "               (\"456 XYZ Ave\", \"Wellington\", 870000, 2, 1)]\n",
    "\n",
    "schema = StructType([\n",
    "    StructField(\"address\", StringType(), True),\n",
    "    StructField(\"city\", StringType(), True),\n",
    "    StructField(\"price\", IntegerType(), True),\n",
    "    StructField(\"bedrooms\", IntegerType(), True),\n",
    "    StructField(\"bathrooms\", IntegerType(), True)\n",
    "])\n",
    "\n",
    "df = spark.createDataFrame(sample_data, schema)\n",
    "df.show()"
   ]
  },
  {
   "cell_type": "code",
   "execution_count": 0,
   "metadata": {
    "application/vnd.databricks.v1+cell": {
     "cellMetadata": {
      "byteLimit": 2048000,
      "rowLimit": 10000
     },
     "inputWidgets": {},
     "nuid": "c9757206-b575-4a32-b57a-296cf7946b41",
     "showTitle": false,
     "tableResultSettingsMap": {},
     "title": ""
    }
   },
   "outputs": [
    {
     "output_type": "stream",
     "name": "stdout",
     "output_type": "stream",
     "text": [
      "Python interpreter will be restarted.\nCollecting requests_oauthlib\n  Downloading requests_oauthlib-2.0.0-py2.py3-none-any.whl (24 kB)\nRequirement already satisfied: requests>=2.0.0 in /databricks/python3/lib/python3.9/site-packages (from requests_oauthlib) (2.27.1)\nCollecting oauthlib>=3.0.0\n  Downloading oauthlib-3.2.2-py3-none-any.whl (151 kB)\nRequirement already satisfied: charset-normalizer~=2.0.0 in /databricks/python3/lib/python3.9/site-packages (from requests>=2.0.0->requests_oauthlib) (2.0.4)\nRequirement already satisfied: idna<4,>=2.5 in /databricks/python3/lib/python3.9/site-packages (from requests>=2.0.0->requests_oauthlib) (3.3)\nRequirement already satisfied: certifi>=2017.4.17 in /databricks/python3/lib/python3.9/site-packages (from requests>=2.0.0->requests_oauthlib) (2021.10.8)\nRequirement already satisfied: urllib3<1.27,>=1.21.1 in /databricks/python3/lib/python3.9/site-packages (from requests>=2.0.0->requests_oauthlib) (1.26.9)\nInstalling collected packages: oauthlib, requests-oauthlib\nSuccessfully installed oauthlib-3.2.2 requests-oauthlib-2.0.0\nPython interpreter will be restarted.\n"
     ]
    }
   ],
   "source": [
    "%pip install requests_oauthlib"
   ]
  },
  {
   "cell_type": "code",
   "execution_count": 0,
   "metadata": {
    "application/vnd.databricks.v1+cell": {
     "cellMetadata": {
      "byteLimit": 2048000,
      "rowLimit": 10000
     },
     "inputWidgets": {},
     "nuid": "4c59ea53-a25d-4040-922d-feff21a87c54",
     "showTitle": false,
     "tableResultSettingsMap": {},
     "title": ""
    }
   },
   "outputs": [],
   "source": [
    "from requests_oauthlib import OAuth1Session\n",
    "import json\n",
    "from pyspark.sql import SparkSession\n",
    "from pyspark.sql.functions import col, to_timestamp"
   ]
  },
  {
   "cell_type": "code",
   "execution_count": 0,
   "metadata": {
    "application/vnd.databricks.v1+cell": {
     "cellMetadata": {
      "byteLimit": 2048000,
      "rowLimit": 10000
     },
     "inputWidgets": {},
     "nuid": "258528d3-6316-499c-b164-e59d5d64bd56",
     "showTitle": false,
     "tableResultSettingsMap": {},
     "title": ""
    }
   },
   "outputs": [],
   "source": [
    "CONSUMER_KEY = \"104CED1C9D5DCA49008D5D9AB8E22103\"\n",
    "CONSUMER_SECRET = \"6C5157AA1E5DB0FC4CC679077F4D50C1\"\n",
    "OAUTH_TOKEN = \"54842151D01EE95430C5909D857D02F7\"\n",
    "OAUTH_TOKEN_SECRET = \"832A352822810F8D2E8C33D8F7C8F4D0\"\n",
    "\n",
    "tm = OAuth1Session(\n",
    "    CONSUMER_KEY,\n",
    "    client_secret=CONSUMER_SECRET,\n",
    "    resource_owner_key=OAUTH_TOKEN,\n",
    "    resource_owner_secret=OAUTH_TOKEN_SECRET\n",
    ")\n"
   ]
  },
  {
   "cell_type": "code",
   "execution_count": 0,
   "metadata": {
    "application/vnd.databricks.v1+cell": {
     "cellMetadata": {
      "byteLimit": 2048000,
      "rowLimit": 10000
     },
     "inputWidgets": {},
     "nuid": "17f4dcab-57ef-4287-886b-62126b6053bc",
     "showTitle": false,
     "tableResultSettingsMap": {},
     "title": ""
    }
   },
   "outputs": [],
   "source": [
    "url = \"https://api.tmsandbox.co.nz/v1/Search/Property/Residential.json\"\n",
    "params = {\n",
    "    \"region\": 1,  # Auckland\n",
    "    \"rows\": 50,\n",
    "    \"page\": 1\n",
    "}\n",
    "\n",
    "response = tm.get(url, params=params)\n",
    "data = response.json()\n"
   ]
  },
  {
   "cell_type": "code",
   "execution_count": 0,
   "metadata": {
    "application/vnd.databricks.v1+cell": {
     "cellMetadata": {
      "byteLimit": 2048000,
      "rowLimit": 10000
     },
     "inputWidgets": {},
     "nuid": "3e2c0c88-cde3-43cb-8dd2-789ee0142655",
     "showTitle": false,
     "tableResultSettingsMap": {},
     "title": ""
    }
   },
   "outputs": [
    {
     "output_type": "stream",
     "name": "stdout",
     "output_type": "stream",
     "text": [
      "+---------+--------+---------+------------+----------+--------------------+--------+---------+--------------------+\n|bathrooms|bedrooms|land_area|listing_date|listing_id|       price_display|  region|   suburb|               title|\n+---------+--------+---------+------------+----------+--------------------+--------+---------+--------------------+\n|        2|       3|     1517|    PROPERTY|2149706648|Asking price $1,4...|Auckland| Pukekohe|XUVI9GRMVB7J09R7KIIO|\n|     null|    null|     8600|    PROPERTY|2149706647|Price by negotiation|Auckland|   Karaka|NZEHGJFBF76UKR7CTNDU|\n|        3|       3|     null|    PROPERTY|2149706646|Price by negotiation|Auckland|Greenlane|RKWRAECZX6TRZNL0EGJJ|\n|        4|       5|      555|    PROPERTY|2149706645|Price by negotiation|Auckland|   Karaka|A07H3KAHGXNOG74P3DHR|\n|        2|       4|     null|    PROPERTY|2149706644|Auction on 29 May...|Auckland|Hillcrest|J4MXOP1AWQBTLRW4EPV2|\n+---------+--------+---------+------------+----------+--------------------+--------+---------+--------------------+\nonly showing top 5 rows\n\n"
     ]
    }
   ],
   "source": [
    "listings = data.get('List', [])\n",
    "\n",
    "# 提取字段\n",
    "records = []\n",
    "for listing in listings:\n",
    "    records.append({\n",
    "        \"listing_id\": listing.get(\"ListingId\"),\n",
    "        \"title\": listing.get(\"Title\"),\n",
    "        \"price_display\": listing.get(\"PriceDisplay\"),\n",
    "        \"suburb\": listing.get(\"Suburb\"),\n",
    "        \"region\": listing.get(\"Region\"),\n",
    "        \"bedrooms\": listing.get(\"Bedrooms\"),\n",
    "        \"bathrooms\": listing.get(\"Bathrooms\"),\n",
    "        \"land_area\": listing.get(\"LandArea\"),\n",
    "        \"listing_date\": listing.get(\"ListingGroup\")\n",
    "    })\n",
    "\n",
    "# 创建DataFrame\n",
    "df = spark.createDataFrame(records)\n",
    "df.show(5)\n"
   ]
  },
  {
   "cell_type": "code",
   "execution_count": 0,
   "metadata": {
    "application/vnd.databricks.v1+cell": {
     "cellMetadata": {
      "byteLimit": 2048000,
      "rowLimit": 10000
     },
     "inputWidgets": {},
     "nuid": "4461aaaa-071a-47d4-9c4b-515c8b5ee37c",
     "showTitle": false,
     "tableResultSettingsMap": {},
     "title": ""
    }
   },
   "outputs": [
    {
     "output_type": "stream",
     "name": "stdout",
     "output_type": "stream",
     "text": [
      "root\n |-- bathrooms: string (nullable = true)\n |-- bedrooms: string (nullable = true)\n |-- land_area: double (nullable = true)\n |-- listing_date: string (nullable = true)\n |-- listing_id: long (nullable = true)\n |-- price_display: string (nullable = true)\n |-- region: string (nullable = true)\n |-- suburb: string (nullable = true)\n |-- title: string (nullable = true)\n\n+---------+--------+---------+------------+----------+--------------------+--------+-----------+--------------------+\n|bathrooms|bedrooms|land_area|listing_date|listing_id|       price_display|  region|     suburb|               title|\n+---------+--------+---------+------------+----------+--------------------+--------+-----------+--------------------+\n|        2|       3|   1517.0|    PROPERTY|2149706648|Asking price $1,4...|Auckland|   Pukekohe|XUVI9GRMVB7J09R7KIIO|\n|     null|    null|   8600.0|    PROPERTY|2149706647|Price by negotiation|Auckland|     Karaka|NZEHGJFBF76UKR7CTNDU|\n|        3|       3|     null|    PROPERTY|2149706646|Price by negotiation|Auckland|  Greenlane|RKWRAECZX6TRZNL0EGJJ|\n|        4|       5|    555.0|    PROPERTY|2149706645|Price by negotiation|Auckland|     Karaka|A07H3KAHGXNOG74P3DHR|\n|        2|       4|     null|    PROPERTY|2149706644|Auction on 29 May...|Auckland|  Hillcrest|J4MXOP1AWQBTLRW4EPV2|\n|     null|    null|   1000.0|    PROPERTY|2149706641|Auction on 24 May...|Auckland|     Pokeno|Time to start you...|\n|     null|    null|   1000.0|    PROPERTY|2149706640|Auction on 24 May...|Auckland|     Pokeno|Time to fulfill y...|\n|        4|       6|    652.0|    PROPERTY|2149706638|Price by negotiation|Auckland|   Pukekohe|Huge home room fo...|\n|        2|       4|   6200.0|    PROPERTY|2149706635|Auction on 12 Jun...|Auckland|   Ramarama|RENOVATED NORTH F...|\n|        2|       4|    528.0|    PROPERTY|2149706627|Auction on 20 Jun...|Auckland|     Pokeno|   Home Sweet Home!!|\n|        1|       3|   1070.0|    PROPERTY|2149706618|Auction on 18 Jun...|Auckland|   Pukekohe|      MORTGAGEE SALE|\n|        4|       6| 116500.0|    PROPERTY|2149706559|Price by negotiation|Auckland|      Drury|OF0AD9AYOMR5M2W8EJW8|\n|        1|       2|     null|    PROPERTY|2149706558|Asking price $629...|Auckland|City Centre|DYR3GPW1F24XXEYR567R|\n|        2|       3|     null|    PROPERTY|2149706557|Price by negotiation|Auckland|    Remuera|LWVIFX65QW68TW3S7K40|\n|        4|       6|    652.0|    PROPERTY|2149706556|Price by negotiation|Auckland|   Pukekohe|GIPPA13E6T69AS3VK4NI|\n|        3|       5|   1270.0|    PROPERTY|2149706555|Price by negotiation|Auckland|   Pukekohe|OVKTCC04Y6P1BRKERX6X|\n|        3|       2|   1000.0|    PROPERTY|2149706552|Auction on 23 May...|Auckland|     Pokeno|Time to start you...|\n|        3|       2|   1000.0|    PROPERTY|2149706551|Auction on 23 May...|Auckland|     Pokeno|Time to fulfill y...|\n|        2|       4|    528.0|    PROPERTY|2149706550|Auction on 12 Jun...|Auckland|     Pokeno|AG059TKADPJAMH68DO5Z|\n|        1|       2|   1012.0|    PROPERTY|2149706549|Price by negotiation|Auckland|     Awhitu|Your Coastal Proj...|\n+---------+--------+---------+------------+----------+--------------------+--------+-----------+--------------------+\nonly showing top 20 rows\n\n"
     ]
    }
   ],
   "source": [
    "df_cleaned = df.withColumn(\"bedrooms\", col(\"bedrooms\").cast(\"string\")) \\\n",
    "               .withColumn(\"bathrooms\", col(\"bathrooms\").cast(\"string\")) \\\n",
    "               .withColumn(\"land_area\", col(\"land_area\").cast(\"double\"))\n",
    "\n",
    "df_cleaned.printSchema()\n",
    "df_cleaned.show()\n"
   ]
  },
  {
   "cell_type": "code",
   "execution_count": 0,
   "metadata": {
    "application/vnd.databricks.v1+cell": {
     "cellMetadata": {
      "byteLimit": 2048000,
      "rowLimit": 10000
     },
     "inputWidgets": {},
     "nuid": "13bbcb26-6277-44df-96b1-e5b3e7ffa99d",
     "showTitle": false,
     "tableResultSettingsMap": {},
     "title": ""
    }
   },
   "outputs": [],
   "source": [
    "df_cleaned = df.selectExpr(\n",
    "    \"cast(listing_id as string)\",\n",
    "    \"cast(title as string)\",\n",
    "    \"cast(price_display as string)\",\n",
    "    \"cast(suburb as string)\",\n",
    "    \"cast(region as string)\",\n",
    "    \"cast(bedrooms as string)\",\n",
    "    \"cast(bathrooms as string)\",\n",
    "    \"cast(land_area as string)\",      # 暂时也转 string 测试\n",
    "    \"cast(listing_date as string)\"\n",
    ")\n"
   ]
  },
  {
   "cell_type": "code",
   "execution_count": 0,
   "metadata": {
    "application/vnd.databricks.v1+cell": {
     "cellMetadata": {
      "byteLimit": 2048000,
      "rowLimit": 10000
     },
     "inputWidgets": {},
     "nuid": "04f63813-1ebd-418f-bb08-5b19a997e22c",
     "showTitle": false,
     "tableResultSettingsMap": {},
     "title": ""
    }
   },
   "outputs": [],
   "source": [
    "sfOptions = {\n",
    "  \"sfURL\": \"kcieedd-kp84242.snowflakecomputing.com\",  # 不要加 https://，如 abcde-xy12345.snowflakecomputing.com\n",
    "  \"sfUser\": \"mjsnowflake\",           # 注册 Snowflake 时填写的\n",
    "  \"sfPassword\": \"Snowflake850525!\",         # 登录密码\n",
    "  \"sfDatabase\": \"PROPERTY_ANALYTICS\",\n",
    "  \"sfSchema\": \"RAW\",\n",
    "  \"sfWarehouse\": \"COMPUTE_WH\",      # 默认就叫这个，如果你没改过\n",
    "  \"sfRole\": \"ACCOUNTADMIN\"          # 如果你是初始用户，默认角色是这个\n",
    "}\n"
   ]
  },
  {
   "cell_type": "code",
   "execution_count": 0,
   "metadata": {
    "application/vnd.databricks.v1+cell": {
     "cellMetadata": {
      "byteLimit": 2048000,
      "rowLimit": 10000
     },
     "inputWidgets": {},
     "nuid": "1d56e298-63ca-4f08-95bc-b7862780a1d0",
     "showTitle": false,
     "tableResultSettingsMap": {},
     "title": ""
    }
   },
   "outputs": [],
   "source": [
    "from pyspark.sql.functions import current_timestamp\n",
    "\n",
    "df_final = df_cleaned.withColumn(\"inserted_at\", current_timestamp())\n"
   ]
  },
  {
   "cell_type": "code",
   "execution_count": 0,
   "metadata": {
    "application/vnd.databricks.v1+cell": {
     "cellMetadata": {
      "byteLimit": 2048000,
      "rowLimit": 10000
     },
     "inputWidgets": {},
     "nuid": "7aeffcd4-0156-4969-bf45-a25c0828cd09",
     "showTitle": false,
     "tableResultSettingsMap": {},
     "title": ""
    }
   },
   "outputs": [],
   "source": [
    "df_final.write \\\n",
    "  .format(\"snowflake\") \\\n",
    "  .options(**sfOptions) \\\n",
    "  .option(\"dbtable\", \"TRADEME_PROPERTY_LISTINGS\") \\\n",
    "  .mode(\"append\") \\\n",
    "  .save()\n"
   ]
  }
 ],
 "metadata": {
  "application/vnd.databricks.v1+notebook": {
   "computePreferences": null,
   "dashboards": [],
   "environmentMetadata": {
    "base_environment": "",
    "environment_version": "1"
   },
   "inputWidgetPreferences": null,
   "language": "python",
   "notebookMetadata": {
    "pythonIndentUnit": 4
   },
   "notebookName": "Fetch_TradeMe_Data",
   "widgets": {}
  }
 },
 "nbformat": 4,
 "nbformat_minor": 0
}